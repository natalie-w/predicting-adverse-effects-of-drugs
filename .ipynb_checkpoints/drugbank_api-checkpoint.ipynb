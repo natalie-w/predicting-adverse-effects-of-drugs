{
 "cells": [
  {
   "cell_type": "code",
   "execution_count": 20,
   "id": "e8848895",
   "metadata": {},
   "outputs": [],
   "source": [
    "import pandas as pd"
   ]
  },
  {
   "cell_type": "code",
   "execution_count": null,
   "id": "29df7cad",
   "metadata": {},
   "outputs": [],
   "source": [
    "# used modified parser from here: https://github.com/rathishg/drugbank_ca/blob/master/drug_bank_xml2db.py"
   ]
  },
  {
   "cell_type": "code",
   "execution_count": 17,
   "id": "6efb58d1",
   "metadata": {},
   "outputs": [
    {
     "name": "stdout",
     "output_type": "stream",
     "text": [
      "Reading and parsing xml file.\n",
      "Processing records.\n",
      "Writing output files.\n",
      "Done:\n",
      "\tdrug_target: 19028 records\n",
      "\tdrug_target_action: 212473 records\n",
      "\tdrugs: 14594 records\n",
      "\ttargets: 19028 records\n"
     ]
    }
   ],
   "source": [
    "# read, parse, process, and write drugbank files\n",
    "\n",
    "!python3 drugbank_xml_2_db.py -i data/drugbank/full_database.xml"
   ]
  },
  {
   "cell_type": "code",
   "execution_count": 30,
   "id": "768fa238",
   "metadata": {},
   "outputs": [],
   "source": [
    "# convert txt files to pandas dfs\n",
    "\n",
    "drug_target = pd.read_csv(\"data/drugbank/full_database.xml.drug_target.txt\", sep='\\t')\n",
    "drug_target_action = pd.read_csv(\"data/drugbank/full_database.xml.drug_target_action.txt\", sep=\"\\t\")\n",
    "drugs = pd.read_csv(\"data/drugbank/full_database.xml.drugs.txt\", sep=\"\\t\")\n",
    "targets = pd.read_csv(\"data/drugbank/full_database.xml.targets.txt\", sep='\\t')\n"
   ]
  },
  {
   "cell_type": "code",
   "execution_count": null,
   "id": "6cd3849a",
   "metadata": {},
   "outputs": [],
   "source": []
  },
  {
   "cell_type": "code",
   "execution_count": 26,
   "id": "7426fa82",
   "metadata": {},
   "outputs": [],
   "source": []
  },
  {
   "cell_type": "code",
   "execution_count": 28,
   "id": "84bb81ef",
   "metadata": {},
   "outputs": [],
   "source": []
  },
  {
   "cell_type": "code",
   "execution_count": null,
   "id": "12434ce4",
   "metadata": {},
   "outputs": [],
   "source": []
  }
 ],
 "metadata": {
  "kernelspec": {
   "display_name": "Python 3 (ipykernel)",
   "language": "python",
   "name": "python3"
  },
  "language_info": {
   "codemirror_mode": {
    "name": "ipython",
    "version": 3
   },
   "file_extension": ".py",
   "mimetype": "text/x-python",
   "name": "python",
   "nbconvert_exporter": "python",
   "pygments_lexer": "ipython3",
   "version": "3.9.13"
  }
 },
 "nbformat": 4,
 "nbformat_minor": 5
}
