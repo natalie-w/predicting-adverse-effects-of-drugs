{
 "cells": [
  {
   "cell_type": "code",
   "execution_count": 20,
   "id": "5be74b95",
   "metadata": {},
   "outputs": [],
   "source": [
    "import pandas as pd"
   ]
  },
  {
   "cell_type": "code",
   "execution_count": null,
   "id": "2d609954",
   "metadata": {},
   "outputs": [],
   "source": [
    "# used modified parser from here: https://github.com/rathishg/drugbank_ca/blob/master/drug_bank_xml2db.py"
   ]
  },
  {
   "cell_type": "code",
   "execution_count": 17,
   "id": "f86247bd",
   "metadata": {},
   "outputs": [
    {
     "name": "stdout",
     "output_type": "stream",
     "text": [
      "Reading and parsing xml file.\n",
      "Processing records.\n",
      "Writing output files.\n",
      "Done:\n",
      "\tdrug_target: 19028 records\n",
      "\tdrug_target_action: 212473 records\n",
      "\tdrugs: 14594 records\n",
      "\ttargets: 19028 records\n"
     ]
    }
   ],
   "source": [
    "# read, parse, process, and write drugbank files\n",
    "\n",
    "!python3 drugbank_xml_2_db.py -i data/drugbank/full_database.xml"
   ]
  },
  {
   "cell_type": "code",
   "execution_count": 30,
   "id": "37b7b629",
   "metadata": {},
   "outputs": [],
   "source": [
    "# convert txt files to pandas dfs\n",
    "\n",
    "drug_target = pd.read_csv(\"data/drugbank/full_database.xml.drug_target.txt\", sep='\\t')\n",
    "drug_target_action = pd.read_csv(\"data/drugbank/full_database.xml.drug_target_action.txt\", sep=\"\\t\")\n",
    "drugs = pd.read_csv(\"data/drugbank/full_database.xml.drugs.txt\", sep=\"\\t\")\n",
    "targets = pd.read_csv(\"data/drugbank/full_database.xml.targets.txt\", sep='\\t')\n"
   ]
  },
  {
   "cell_type": "code",
   "execution_count": 90,
   "id": "6ac6e09f",
   "metadata": {},
   "outputs": [],
   "source": [
    "# format data by lower casing all drug names\n",
    "\n",
    "drugs['drug_name'] = [d.lower() for d in drugs['drug_name']]\n",
    "\n",
    "heart_drugs = pd.read_csv(\"data/drugs_with_heart_se.csv\")\n",
    "heart_drugs['drug_name'] = [d.lower() for d in heart_drugs['drug_name']]"
   ]
  },
  {
   "cell_type": "code",
   "execution_count": 72,
   "id": "c7c00f0e",
   "metadata": {},
   "outputs": [],
   "source": [
    "# create db of all drugs that give heart-related side effects and their targets\n",
    "\n",
    "heart_drugs_db = drugs[drugs['drug_name'].isin(list(heart_drugs.drug_name))]"
   ]
  },
  {
   "cell_type": "code",
   "execution_count": 96,
   "id": "9cbecb00",
   "metadata": {},
   "outputs": [
    {
     "name": "stdout",
     "output_type": "stream",
     "text": [
      "num unique drugs with target info: 719\n"
     ]
    }
   ],
   "source": [
    "# num unique drugs that had target info\n",
    "\n",
    "print(\"num unique drugs with target info: \" + str(len(heart_drugs_db.drug_id.unique())))"
   ]
  },
  {
   "cell_type": "code",
   "execution_count": 98,
   "id": "9580344f",
   "metadata": {},
   "outputs": [
    {
     "name": "stdout",
     "output_type": "stream",
     "text": [
      "num unique targets: 790\n"
     ]
    }
   ],
   "source": [
    "# num unique targets \n",
    "\n",
    "heart_drug_targets = drug_target_action[drug_target_action['drug_id'].isin(heart_drugs_db.drug_id)]\n",
    "print(\"num unique targets: \" + str(len(heart_drug_targets.target_id.unique())))"
   ]
  }
 ],
 "metadata": {
  "kernelspec": {
   "display_name": "Python 3 (ipykernel)",
   "language": "python",
   "name": "python3"
  },
  "language_info": {
   "codemirror_mode": {
    "name": "ipython",
    "version": 3
   },
   "file_extension": ".py",
   "mimetype": "text/x-python",
   "name": "python",
   "nbconvert_exporter": "python",
   "pygments_lexer": "ipython3",
   "version": "3.9.13"
  }
 },
 "nbformat": 4,
 "nbformat_minor": 5
}
