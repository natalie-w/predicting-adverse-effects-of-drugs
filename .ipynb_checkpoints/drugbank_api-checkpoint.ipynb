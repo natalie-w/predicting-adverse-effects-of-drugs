{
 "cells": [
  {
   "cell_type": "code",
   "execution_count": 20,
   "id": "9f38e463",
   "metadata": {},
   "outputs": [],
   "source": [
    "import pandas as pd"
   ]
  },
  {
   "cell_type": "code",
   "execution_count": null,
   "id": "5b5b028e",
   "metadata": {},
   "outputs": [],
   "source": [
    "# used modified parser from here: https://github.com/rathishg/drugbank_ca/blob/master/drug_bank_xml2db.py"
   ]
  },
  {
   "cell_type": "code",
   "execution_count": 17,
   "id": "614ce600",
   "metadata": {},
   "outputs": [
    {
     "name": "stdout",
     "output_type": "stream",
     "text": [
      "Reading and parsing xml file.\n",
      "Processing records.\n",
      "Writing output files.\n",
      "Done:\n",
      "\tdrug_target: 19028 records\n",
      "\tdrug_target_action: 212473 records\n",
      "\tdrugs: 14594 records\n",
      "\ttargets: 19028 records\n"
     ]
    }
   ],
   "source": [
    "# read, parse, process, and write drugbank files\n",
    "\n",
    "!python3 drugbank_xml_2_db.py -i data/drugbank/full_database.xml"
   ]
  },
  {
   "cell_type": "code",
   "execution_count": 30,
   "id": "c57c36ea",
   "metadata": {},
   "outputs": [],
   "source": [
    "# convert txt files to pandas dfs\n",
    "\n",
    "drug_target = pd.read_csv(\"data/drugbank/full_database.xml.drug_target.txt\", sep='\\t')\n",
    "drug_target_action = pd.read_csv(\"data/drugbank/full_database.xml.drug_target_action.txt\", sep=\"\\t\")\n",
    "drugs = pd.read_csv(\"data/drugbank/full_database.xml.drugs.txt\", sep=\"\\t\")\n",
    "targets = pd.read_csv(\"data/drugbank/full_database.xml.targets.txt\", sep='\\t')\n"
   ]
  },
  {
   "cell_type": "code",
   "execution_count": 113,
   "id": "f2f6d9bd",
   "metadata": {},
   "outputs": [],
   "source": [
    "# format data by lower casing all drug names\n",
    "\n",
    "drugs['drug_name'] = [d.lower() for d in drugs['drug_name']]\n",
    "\n",
    "heart_drugs = pd.read_csv(\"data/drugs_with_heart_se.csv\")\n",
    "heart_drugs['drug_name'] = [d.lower() for d in heart_drugs['drug_name']]\n",
    "\n",
    "drug_name_target_name = pd.merge(pd.merge(drug_target, drugs, on = 'drug_id', how = 'left')[['target_id', 'drug_name', 'restrictions']], targets, on = 'target_id', how='left')[['drug_name', 'target_name', 'restrictions']]"
   ]
  },
  {
   "cell_type": "code",
   "execution_count": 117,
   "id": "e69cad78",
   "metadata": {},
   "outputs": [],
   "source": [
    "# create db of all drugs that give heart-related side effects and their targets\n",
    "\n",
    "heart_drugs_db = drug_name_target_name[drug_name_target_name['drug_name'].isin(list(heart_drugs.drug_name))]"
   ]
  },
  {
   "cell_type": "code",
   "execution_count": 118,
   "id": "c9bfbf6e",
   "metadata": {},
   "outputs": [
    {
     "name": "stdout",
     "output_type": "stream",
     "text": [
      "num unique drugs with target info: 676\n"
     ]
    }
   ],
   "source": [
    "# num unique drugs that had target info\n",
    "\n",
    "print(\"num unique drugs with target info: \" + str(len(heart_drugs_db.drug_name.unique())))"
   ]
  },
  {
   "cell_type": "code",
   "execution_count": 119,
   "id": "908b010b",
   "metadata": {},
   "outputs": [
    {
     "name": "stdout",
     "output_type": "stream",
     "text": [
      "num unique targets: 789\n"
     ]
    }
   ],
   "source": [
    "# num unique targets \n",
    "\n",
    "heart_drug_targets = heart_drugs_db.target_name.unique()\n",
    "print(\"num unique targets: \" + str(len(heart_drug_targets)))"
   ]
  },
  {
   "cell_type": "code",
   "execution_count": 121,
   "id": "afa5965b",
   "metadata": {},
   "outputs": [],
   "source": [
    "# save heart - drug - target df\n",
    "\n",
    "heart_drugs_db.to_csv(\"data/heart_drugs_targets.csv\", index=None)"
   ]
  },
  {
   "cell_type": "code",
   "execution_count": null,
   "id": "c043322a",
   "metadata": {},
   "outputs": [],
   "source": []
  },
  {
   "cell_type": "code",
   "execution_count": null,
   "id": "e415334c",
   "metadata": {},
   "outputs": [],
   "source": []
  },
  {
   "cell_type": "code",
   "execution_count": null,
   "id": "9a41783d",
   "metadata": {},
   "outputs": [],
   "source": []
  },
  {
   "cell_type": "code",
   "execution_count": null,
   "id": "f316c12c",
   "metadata": {},
   "outputs": [],
   "source": []
  },
  {
   "cell_type": "code",
   "execution_count": null,
   "id": "3582a34b",
   "metadata": {},
   "outputs": [],
   "source": []
  }
 ],
 "metadata": {
  "kernelspec": {
   "display_name": "Python 3 (ipykernel)",
   "language": "python",
   "name": "python3"
  },
  "language_info": {
   "codemirror_mode": {
    "name": "ipython",
    "version": 3
   },
   "file_extension": ".py",
   "mimetype": "text/x-python",
   "name": "python",
   "nbconvert_exporter": "python",
   "pygments_lexer": "ipython3",
   "version": "3.9.13"
  }
 },
 "nbformat": 4,
 "nbformat_minor": 5
}
