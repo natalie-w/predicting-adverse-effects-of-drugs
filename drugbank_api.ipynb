{
 "cells": [
  {
   "cell_type": "code",
   "execution_count": 20,
   "id": "1d82acca",
   "metadata": {},
   "outputs": [],
   "source": [
    "import pandas as pd"
   ]
  },
  {
   "cell_type": "code",
   "execution_count": null,
   "id": "d209dce6",
   "metadata": {},
   "outputs": [],
   "source": [
    "# used modified parser from here: https://github.com/rathishg/drugbank_ca/blob/master/drug_bank_xml2db.py"
   ]
  },
  {
   "cell_type": "code",
   "execution_count": 17,
   "id": "1eb8abfb",
   "metadata": {},
   "outputs": [
    {
     "name": "stdout",
     "output_type": "stream",
     "text": [
      "Reading and parsing xml file.\n",
      "Processing records.\n",
      "Writing output files.\n",
      "Done:\n",
      "\tdrug_target: 19028 records\n",
      "\tdrug_target_action: 212473 records\n",
      "\tdrugs: 14594 records\n",
      "\ttargets: 19028 records\n"
     ]
    }
   ],
   "source": [
    "# read, parse, process, and write drugbank files\n",
    "\n",
    "!python3 drugbank_xml_2_db.py -i data/drugbank/full_database.xml"
   ]
  },
  {
   "cell_type": "code",
   "execution_count": 30,
   "id": "3c274154",
   "metadata": {},
   "outputs": [],
   "source": [
    "# convert txt files to pandas dfs\n",
    "\n",
    "drug_target = pd.read_csv(\"data/drugbank/full_database.xml.drug_target.txt\", sep='\\t')\n",
    "drug_target_action = pd.read_csv(\"data/drugbank/full_database.xml.drug_target_action.txt\", sep=\"\\t\")\n",
    "drugs = pd.read_csv(\"data/drugbank/full_database.xml.drugs.txt\", sep=\"\\t\")\n",
    "targets = pd.read_csv(\"data/drugbank/full_database.xml.targets.txt\", sep='\\t')\n"
   ]
  },
  {
   "cell_type": "code",
   "execution_count": 126,
   "id": "faabc9e9",
   "metadata": {},
   "outputs": [],
   "source": [
    "# format data by lower casing all drug names\n",
    "\n",
    "drugs['drug_name'] = [d.lower() for d in drugs['drug_name']]\n",
    "\n",
    "heart_drugs = pd.read_csv(\"data/drugs_with_heart_se.csv\")\n",
    "heart_drugs['drug_name'] = [d.lower() for d in heart_drugs['drug_name']]\n",
    "\n",
    "drug_name_target_name = pd.merge(pd.merge(drug_target_action, drugs, on = 'drug_id', how = 'left')[['target_id', 'drug_name', 'restrictions', 'action']], targets, on = 'target_id', how='left')[['drug_name', 'target_name', 'restrictions', 'action']]"
   ]
  },
  {
   "cell_type": "code",
   "execution_count": 127,
   "id": "3b579b1c",
   "metadata": {},
   "outputs": [],
   "source": [
    "# create db of all drugs that give heart-related side effects and their targets\n",
    "\n",
    "heart_drugs_db = drug_name_target_name[drug_name_target_name['drug_name'].isin(list(heart_drugs.drug_name))]"
   ]
  },
  {
   "cell_type": "code",
   "execution_count": 128,
   "id": "b7dec983",
   "metadata": {},
   "outputs": [
    {
     "name": "stdout",
     "output_type": "stream",
     "text": [
      "num unique drugs with target info: 664\n"
     ]
    }
   ],
   "source": [
    "# num unique drugs that had target info\n",
    "\n",
    "print(\"num unique drugs with target info: \" + str(len(heart_drugs_db.drug_name.unique())))"
   ]
  },
  {
   "cell_type": "code",
   "execution_count": 129,
   "id": "46ff9686",
   "metadata": {},
   "outputs": [
    {
     "name": "stdout",
     "output_type": "stream",
     "text": [
      "num unique targets: 773\n"
     ]
    }
   ],
   "source": [
    "# num unique targets \n",
    "\n",
    "heart_drug_targets = heart_drugs_db.target_name.unique()\n",
    "print(\"num unique targets: \" + str(len(heart_drug_targets)))"
   ]
  },
  {
   "cell_type": "code",
   "execution_count": 130,
   "id": "9bbf1da5",
   "metadata": {},
   "outputs": [],
   "source": [
    "# save heart - drug - target df\n",
    "\n",
    "heart_drugs_db.to_csv(\"data/heart_drugs_targets.csv\", index=None)"
   ]
  },
  {
   "cell_type": "code",
   "execution_count": 131,
   "id": "8fff5991",
   "metadata": {},
   "outputs": [
    {
     "data": {
      "text/html": [
       "<div>\n",
       "<style scoped>\n",
       "    .dataframe tbody tr th:only-of-type {\n",
       "        vertical-align: middle;\n",
       "    }\n",
       "\n",
       "    .dataframe tbody tr th {\n",
       "        vertical-align: top;\n",
       "    }\n",
       "\n",
       "    .dataframe thead th {\n",
       "        text-align: right;\n",
       "    }\n",
       "</style>\n",
       "<table border=\"1\" class=\"dataframe\">\n",
       "  <thead>\n",
       "    <tr style=\"text-align: right;\">\n",
       "      <th></th>\n",
       "      <th>drug_name</th>\n",
       "      <th>target_name</th>\n",
       "      <th>restrictions</th>\n",
       "      <th>action</th>\n",
       "    </tr>\n",
       "  </thead>\n",
       "  <tbody>\n",
       "    <tr>\n",
       "      <th>33</th>\n",
       "      <td>bivalirudin</td>\n",
       "      <td>Prothrombin</td>\n",
       "      <td>approved,investigational</td>\n",
       "      <td>inhibitor</td>\n",
       "    </tr>\n",
       "    <tr>\n",
       "      <th>85</th>\n",
       "      <td>goserelin</td>\n",
       "      <td>Lutropin-choriogonadotropic hormone receptor</td>\n",
       "      <td>approved</td>\n",
       "      <td>agonist</td>\n",
       "    </tr>\n",
       "    <tr>\n",
       "      <th>86</th>\n",
       "      <td>goserelin</td>\n",
       "      <td>Gonadotropin-releasing hormone receptor</td>\n",
       "      <td>approved</td>\n",
       "      <td>agonist</td>\n",
       "    </tr>\n",
       "    <tr>\n",
       "      <th>259</th>\n",
       "      <td>desmopressin</td>\n",
       "      <td>Vasopressin V2 receptor</td>\n",
       "      <td>approved</td>\n",
       "      <td>agonist</td>\n",
       "    </tr>\n",
       "    <tr>\n",
       "      <th>260</th>\n",
       "      <td>desmopressin</td>\n",
       "      <td>Vasopressin V1a receptor</td>\n",
       "      <td>approved</td>\n",
       "      <td>agonist</td>\n",
       "    </tr>\n",
       "    <tr>\n",
       "      <th>...</th>\n",
       "      <td>...</td>\n",
       "      <td>...</td>\n",
       "      <td>...</td>\n",
       "      <td>...</td>\n",
       "    </tr>\n",
       "    <tr>\n",
       "      <th>17925</th>\n",
       "      <td>lormetazepam</td>\n",
       "      <td>GABA(A) Receptor</td>\n",
       "      <td>approved</td>\n",
       "      <td>ligand</td>\n",
       "    </tr>\n",
       "    <tr>\n",
       "      <th>17926</th>\n",
       "      <td>lormetazepam</td>\n",
       "      <td>GABA(A) Receptor Benzodiazepine Binding Site</td>\n",
       "      <td>approved</td>\n",
       "      <td>positive allosteric modulator</td>\n",
       "    </tr>\n",
       "    <tr>\n",
       "      <th>17927</th>\n",
       "      <td>lormetazepam</td>\n",
       "      <td>GABA(A) Receptor Benzodiazepine Binding Site</td>\n",
       "      <td>approved</td>\n",
       "      <td>ligand</td>\n",
       "    </tr>\n",
       "    <tr>\n",
       "      <th>17966</th>\n",
       "      <td>candesartan</td>\n",
       "      <td>Type-1 angiotensin II receptor</td>\n",
       "      <td>experimental</td>\n",
       "      <td>antagonist</td>\n",
       "    </tr>\n",
       "    <tr>\n",
       "      <th>18806</th>\n",
       "      <td>potassium</td>\n",
       "      <td>Sodium/potassium-transporting ATPase subunit a...</td>\n",
       "      <td>approved,experimental</td>\n",
       "      <td>regulator</td>\n",
       "    </tr>\n",
       "  </tbody>\n",
       "</table>\n",
       "<p>6713 rows × 4 columns</p>\n",
       "</div>"
      ],
      "text/plain": [
       "          drug_name                                        target_name  \\\n",
       "33      bivalirudin                                        Prothrombin   \n",
       "85        goserelin       Lutropin-choriogonadotropic hormone receptor   \n",
       "86        goserelin            Gonadotropin-releasing hormone receptor   \n",
       "259    desmopressin                            Vasopressin V2 receptor   \n",
       "260    desmopressin                           Vasopressin V1a receptor   \n",
       "...             ...                                                ...   \n",
       "17925  lormetazepam                                   GABA(A) Receptor   \n",
       "17926  lormetazepam       GABA(A) Receptor Benzodiazepine Binding Site   \n",
       "17927  lormetazepam       GABA(A) Receptor Benzodiazepine Binding Site   \n",
       "17966   candesartan                     Type-1 angiotensin II receptor   \n",
       "18806     potassium  Sodium/potassium-transporting ATPase subunit a...   \n",
       "\n",
       "                   restrictions                         action  \n",
       "33     approved,investigational                      inhibitor  \n",
       "85                     approved                        agonist  \n",
       "86                     approved                        agonist  \n",
       "259                    approved                        agonist  \n",
       "260                    approved                        agonist  \n",
       "...                         ...                            ...  \n",
       "17925                  approved                         ligand  \n",
       "17926                  approved  positive allosteric modulator  \n",
       "17927                  approved                         ligand  \n",
       "17966              experimental                     antagonist  \n",
       "18806     approved,experimental                      regulator  \n",
       "\n",
       "[6713 rows x 4 columns]"
      ]
     },
     "execution_count": 131,
     "metadata": {},
     "output_type": "execute_result"
    }
   ],
   "source": [
    "heart_drugs_db"
   ]
  },
  {
   "cell_type": "code",
   "execution_count": null,
   "id": "a8dd15c8",
   "metadata": {},
   "outputs": [],
   "source": []
  },
  {
   "cell_type": "code",
   "execution_count": null,
   "id": "b596c214",
   "metadata": {},
   "outputs": [],
   "source": []
  },
  {
   "cell_type": "code",
   "execution_count": null,
   "id": "e64e0415",
   "metadata": {},
   "outputs": [],
   "source": []
  },
  {
   "cell_type": "code",
   "execution_count": null,
   "id": "ec3a5bbf",
   "metadata": {},
   "outputs": [],
   "source": []
  }
 ],
 "metadata": {
  "kernelspec": {
   "display_name": "Python 3 (ipykernel)",
   "language": "python",
   "name": "python3"
  },
  "language_info": {
   "codemirror_mode": {
    "name": "ipython",
    "version": 3
   },
   "file_extension": ".py",
   "mimetype": "text/x-python",
   "name": "python",
   "nbconvert_exporter": "python",
   "pygments_lexer": "ipython3",
   "version": "3.9.13"
  }
 },
 "nbformat": 4,
 "nbformat_minor": 5
}
